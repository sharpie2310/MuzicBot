{
 "cells": [
  {
   "cell_type": "code",
   "execution_count": null,
   "metadata": {
    "collapsed": false
   },
   "outputs": [
    {
     "name": "stderr",
     "output_type": "stream",
     "text": [
      "Bottle v0.12.9 server starting up (using WSGIRefServer())...\n",
      "Listening on http://ec2-54-67-49-59.us-west-1.compute.amazonaws.com:8001/\n",
      "Hit Ctrl-C to quit.\n",
      "\n",
      "128.54.252.105 - - [13/Mar/2016 23:24:58] \"GET /main HTTP/1.1\" 200 145613\n",
      "128.54.252.105 - - [13/Mar/2016 23:24:59] \"GET /inc/shim/Base64.js HTTP/1.1\" 200 2233\n",
      "128.54.252.105 - - [13/Mar/2016 23:24:59] \"GET /inc/shim/Base64binary.js HTTP/1.1\" 200 3116\n",
      "128.54.252.105 - - [13/Mar/2016 23:24:59] \"GET /inc/shim/WebAudioAPI.js HTTP/1.1\" 200 3471\n",
      "128.54.252.105 - - [13/Mar/2016 23:24:59] \"GET /inc/shim/WebMIDIAPI.js HTTP/1.1\" 200 14100\n",
      "128.54.252.105 - - [13/Mar/2016 23:24:59] \"GET /inc/jasmid/stream.js HTTP/1.1\" 200 1442\n",
      "128.54.252.105 - - [13/Mar/2016 23:24:59] \"GET /inc/jasmid/midifile.js HTTP/1.1\" 200 6975\n",
      "128.54.252.105 - - [13/Mar/2016 23:24:59] \"GET /inc/jasmid/replayer.js HTTP/1.1\" 200 2878\n",
      "128.54.252.105 - - [13/Mar/2016 23:24:59] \"GET /js/midi/audioDetect.js HTTP/1.1\" 200 6494\n",
      "128.54.252.105 - - [13/Mar/2016 23:24:59] \"GET /js/midi/gm.js HTTP/1.1\" 200 6206\n",
      "128.54.252.105 - - [13/Mar/2016 23:24:59] \"GET /js/midi/loader.js HTTP/1.1\" 200 5555\n",
      "128.54.252.105 - - [13/Mar/2016 23:24:59] \"GET /js/midi/plugin.audiotag.js HTTP/1.1\" 200 4211\n",
      "128.54.252.105 - - [13/Mar/2016 23:24:59] \"GET /js/midi/plugin.webaudio.js HTTP/1.1\" 200 8912\n",
      "128.54.252.105 - - [13/Mar/2016 23:24:59] \"GET /js/midi/plugin.webmidi.js HTTP/1.1\" 200 2633\n",
      "128.54.252.105 - - [13/Mar/2016 23:24:59] \"GET /js/midi/player.js HTTP/1.1\" 200 9070\n",
      "128.54.252.105 - - [13/Mar/2016 23:24:59] \"GET /js/midi/synesthesia.js HTTP/1.1\" 200 10479\n",
      "128.54.252.105 - - [13/Mar/2016 23:24:59] \"GET /js/util/dom_request_xhr.js HTTP/1.1\" 200 4036\n",
      "128.54.252.105 - - [13/Mar/2016 23:24:59] \"GET /js/util/dom_request_script.js HTTP/1.1\" 200 5577\n",
      "128.54.252.105 - - [13/Mar/2016 23:24:59] \"GET /inc/timer.js HTTP/1.1\" 200 5456\n",
      "128.54.252.105 - - [13/Mar/2016 23:24:59] \"GET /inc/colorspace.js HTTP/1.1\" 200 9746\n",
      "128.54.252.105 - - [13/Mar/2016 23:24:59] \"GET /inc/event.js HTTP/1.1\" 200 57865\n",
      "128.54.252.105 - - [13/Mar/2016 23:24:59] \"GET /css/bootstrap.min.css HTTP/1.1\" 200 128640\n",
      "128.54.252.105 - - [13/Mar/2016 23:24:59] \"GET /css/freelancer.css HTTP/1.1\" 200 7985\n",
      "128.54.252.105 - - [13/Mar/2016 23:24:59] \"GET /font-awesome/css/font-awesome.min.css HTTP/1.1\" 200 21984\n",
      "128.54.252.105 - - [13/Mar/2016 23:24:59] \"GET /js/jquery.js HTTP/1.1\" 200 95785\n",
      "128.54.252.105 - - [13/Mar/2016 23:24:59] \"GET /js/bootstrap.min.js HTTP/1.1\" 200 36868\n",
      "128.54.252.105 - - [13/Mar/2016 23:24:59] \"GET /js/classie.js HTTP/1.1\" 200 1835\n",
      "128.54.252.105 - - [13/Mar/2016 23:24:59] \"GET /js/cbpAnimatedHeader.js HTTP/1.1\" 200 877\n",
      "128.54.252.105 - - [13/Mar/2016 23:24:59] \"GET /js/jqBootstrapValidation.js HTTP/1.1\" 200 36180\n",
      "128.54.252.105 - - [13/Mar/2016 23:24:59] \"GET /js/contact_me.js HTTP/1.1\" 200 3055\n",
      "128.54.252.105 - - [13/Mar/2016 23:24:59] \"GET /js/freelancer.js HTTP/1.1\" 200 1311\n",
      "128.54.252.105 - - [13/Mar/2016 23:24:59] \"GET /js/abcjs_basic_2.3-min.js HTTP/1.1\" 200 398892\n",
      "128.54.252.105 - - [13/Mar/2016 23:24:59] \"GET /img/profile.png HTTP/1.1\" 200 68592\n",
      "128.54.252.105 - - [13/Mar/2016 23:24:59] \"GET /img/portfolio/cabin.png HTTP/1.1\" 200 36514\n",
      "128.54.252.105 - - [13/Mar/2016 23:24:59] \"GET /img/portfolio/cake.png HTTP/1.1\" 200 17068\n",
      "128.54.252.105 - - [13/Mar/2016 23:24:59] \"GET /img/portfolio/circus.png HTTP/1.1\" 200 27984\n",
      "128.54.252.105 - - [13/Mar/2016 23:24:59] \"GET /img/portfolio/game.png HTTP/1.1\" 200 25896\n",
      "128.54.252.105 - - [13/Mar/2016 23:24:59] \"GET /img/portfolio/safe.png HTTP/1.1\" 200 19240\n",
      "128.54.252.105 - - [13/Mar/2016 23:24:59] \"GET /img/portfolio/submarine.png HTTP/1.1\" 200 24330\n",
      "128.54.252.105 - - [13/Mar/2016 23:24:59] \"GET /font-awesome/fonts/fontawesome-webfont.woff?v=4.2.0 HTTP/1.1\" 200 65452\n",
      "128.54.252.105 - - [13/Mar/2016 23:24:59] \"GET /fonts/glyphicons-halflings-regular.woff2 HTTP/1.1\" 200 18028\n",
      "128.54.252.105 - - [13/Mar/2016 23:25:00] \"GET /favicon.ico HTTP/1.1\" 404 765\n",
      "128.54.252.105 - - [13/Mar/2016 23:25:00] \"GET /favicon.ico HTTP/1.1\" 404 765\n",
      "128.54.252.105 - - [13/Mar/2016 23:26:39] \"GET /main HTTP/1.1\" 200 145613\n"
     ]
    }
   ],
   "source": [
    "from bottle import route,get, run,static_file,template\n",
    "\n",
    "@route('/main')\n",
    "def serve_homepage():\n",
    "    return template('index.html', root='/home/ubuntu/Project/CSE253/')\n",
    "\n",
    "@route('/<filename:path>')\n",
    "def send_static(filename):\n",
    "    return static_file(filename, root='/home/ubuntu/Project/CSE253/') \n",
    "\n",
    "run(host='ec2-54-67-49-59.us-west-1.compute.amazonaws.com', port=8001, debug=True)"
   ]
  },
  {
   "cell_type": "code",
   "execution_count": null,
   "metadata": {
    "collapsed": true
   },
   "outputs": [],
   "source": []
  }
 ],
 "metadata": {
  "kernelspec": {
   "display_name": "Python 2",
   "language": "python",
   "name": "python2"
  },
  "language_info": {
   "codemirror_mode": {
    "name": "ipython",
    "version": 2
   },
   "file_extension": ".py",
   "mimetype": "text/x-python",
   "name": "python",
   "nbconvert_exporter": "python",
   "pygments_lexer": "ipython2",
   "version": "2.7.11"
  }
 },
 "nbformat": 4,
 "nbformat_minor": 0
}
