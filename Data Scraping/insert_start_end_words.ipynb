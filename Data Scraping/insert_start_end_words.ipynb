{
 "cells": [
  {
   "cell_type": "code",
   "execution_count": 8,
   "metadata": {
    "collapsed": false
   },
   "outputs": [],
   "source": [
    "filename='french_after.txt'\n",
    "search=\"X\"\n",
    "add=\"\\n<end>\\n<start>\\n\"\n",
    "content=open(filename,'r').read()\n",
    "content=content.replace(search,add+search)\n",
    "fp=open(filename,'w')\n",
    "fp.write(content)\n",
    "fp.close()"
   ]
  },
  {
   "cell_type": "code",
   "execution_count": 20,
   "metadata": {
    "collapsed": true
   },
   "outputs": [],
   "source": [
    "filename = 'french_after.txt'\n",
    "search=\"\\n\\n\"\n",
    "add=\"\\n\"\n",
    "content=open(filename,'r').read()\n",
    "content=content.replace(search,add)\n",
    "fp=open(filename,'w')\n",
    "fp.write(content)\n",
    "fp.close()"
   ]
  },
  {
   "cell_type": "code",
   "execution_count": 4,
   "metadata": {
    "collapsed": false
   },
   "outputs": [],
   "source": [
    "filenames = ['final_merged.txt','new_tunes.txt']\n",
    "with open('final_2mb_merged.txt', 'w') as outfile:\n",
    "    for fname in filenames:\n",
    "        with open(fname) as infile:\n",
    "            for line in infile:\n",
    "                outfile.write(line)"
   ]
  },
  {
   "cell_type": "code",
   "execution_count": 25,
   "metadata": {
    "collapsed": false
   },
   "outputs": [
    {
     "name": "stdout",
     "output_type": "stream",
     "text": [
      "i am not there\n",
      "\n",
      "<end>\n",
      "i am not there\n",
      "\n",
      "X:1180\n",
      "T:Colonel McLean's March.\n",
      "M:C\n",
      "L:1/8\n",
      "Q:1/2=72\n",
      "I: :: ::\n",
      "Z:Jack Campin * www.campin.me.uk * 2009\n",
      "K:D\n",
      "[V:1] A2|d2 d>d d2 e2 |f2 f>f f2 g2|a2(ba) (ag)(gf)|e2 e>e e2:|\n",
      "[V:2] z2|z4     z2 A2 |d2 d>d d2 e2|f2(gf) (fe)(ed)|A2 A>A A2:|\n",
      "%\n",
      "[V:1] f2|e>fe>f e2 f2 |e2 e>e e2 g2|f>gf>g  f2  g2 |f2 f>f f2\n",
      "[V:2] d2|A>dA>d A2 d2 |A2 A>A A2 e2|d>ed>e  d2  e2 |d2 d>d d2\n",
      "%\n",
      "[V:1] a2|b>ga>f g>ef>g|f2Te2  d>fe>g|f>ga>g f2 Te2 |d2 d>d d2:|\n",
      "[V:2] f2|g>ef>d e>Ad>e|d2 A2  F2 A2 |d>ef>e d2  A2 |F2 F>F F2:|\n",
      "\n",
      "<end>\n",
      "i am not there\n",
      "\n",
      "X:92\n",
      "T:Johnny William's Jig\n",
      "R:Jig \n",
      "S:Jim Mulqueeny, Clare (fiddle).\n",
      "D:A mysterious tape\n",
      "H:'c's and 'f's very mobile\n",
      "H:A version of 'The Yellow Wattle'\n",
      "Q:400\n",
      "M:6/8\n",
      "Z:Bernie Stocks\n",
      "K:G\n",
      "|: dcA ABG | ABG ABc | dcA ABc | dcA GED | dcA ABG | ABG AGE | D2A cde | dcA GED :|\n",
      "|: DED c2d | edd dcd | D2A cde | dcA GED | DED c2d | edd dcd | efe cde | dcA GED :|\n",
      "<end>\n",
      "i am not there\n",
      "\n",
      "X:1025\n",
      "T:Mulloch Cairn\n",
      "C:Charlie Sherrit\n",
      "S:Album, Jim Johnstone, Government Warning (1984)\n",
      "Z:Nigel Gatherer\n",
      "M:4/4\n",
      "L:1/8\n",
      "K:D\n",
      "d>e | f2 f<a d2 d>A | B>A B<d B2 A2 | c2 A>c e2 c>e | g>f e<d f2 e2 |\n",
      "f2 f<a d2 d>A | B>A B<d B2 A2 | c2 A>c e<a e>f | d4 d2 :|\n",
      "f>g | a2 a>g f2 f>e | d>A B<d B2 A2 | c2 A>c A>B c>A | g>f e<d f2 f>g |\n",
      "a2 a>g f2 f>e | d>A B<d B2 A2 | c2 A>c e<a e>f | d4 d2 :|\n",
      "f>e | d2 d>A B>d B<G | A2 d>e f>a f<d | c2 c>B A>c e<A | g>f e<d c2 e2 |\n",
      "d2 d>A B>d B<G | A2 d>e f>a f<d | c2 A>c e<a e>f | d4 d2 :|\n",
      "f>g | f<a a>g f<a d<f | B2 A>d f<a f<d | g>f f>e e>d d>A | B>A B>c d2 f>g |\n",
      "f<a a>g f<a d<f | B2 A>d f<a f<d | c2 A>c e<a e>f | d4 d2 :|\n",
      "<end>\n"
     ]
    }
   ],
   "source": [
    "with open(\"final_2mb_merged_copy.txt\", mode=\"r\") as bigfile:\n",
    "    reader = bigfile.read()\n",
    "    for i,part in enumerate(reader.split(\"<start>\")):\n",
    "        if \"<end>\" not in part:            \n",
    "            part = part + \"\\n<end>\"\n",
    "            print(\"i am not there\")\n",
    "            print(part)\n",
    "        with open(\"File_together_new.txt\", mode=\"a\") as newfile:\n",
    "            newfile.write(\"\\n<start>\"+part)"
   ]
  },
  {
   "cell_type": "code",
   "execution_count": 29,
   "metadata": {
    "collapsed": false
   },
   "outputs": [
    {
     "name": "stdout",
     "output_type": "stream",
     "text": [
      "i am not there\n",
      "\n",
      "<end>\n"
     ]
    }
   ],
   "source": [
    "with open(\"File_together_new.txt\", mode=\"r\") as bigfile:\n",
    "    reader = bigfile.read()\n",
    "    for i,part in enumerate(reader.split(\"<start>\")):\n",
    "        if \"<end>\" not in part:            \n",
    "            part = part + \"\\n<end>\"\n",
    "            print(\"i am not there\")\n",
    "            print(part)\n",
    "        "
   ]
  },
  {
   "cell_type": "code",
   "execution_count": 24,
   "metadata": {
    "collapsed": false
   },
   "outputs": [
    {
     "name": "stdout",
     "output_type": "stream",
     "text": [
      "swedish\\hnjp0.abc\n",
      "swedish\\hnk1p0.abc\n",
      "swedish\\hnl1p0.abc\n",
      "swedish\\hnop0.abc\n",
      "swedish\\hnsch0.abc\n",
      "swedish\\hnsp0.abc\n",
      "swedish\\hnvals0.abc\n"
     ]
    }
   ],
   "source": [
    "\n",
    "import os  \n",
    "for fn in os.listdir(\"swedish\"):\n",
    "    filename=''.join(\"swedish\")\n",
    "    filename += '\\\\'\n",
    "    filename += fn\n",
    "    print(filename)\n",
    "    \n",
    "    search=\"X\"\n",
    "    add=\"\\n<end>\\n<start>\\n\"\n",
    "    content=open(filename,'r').read()\n",
    "    content=content.replace(search,add+search)\n",
    "    fp=open(filename,'w')\n",
    "    fp.write(content)\n",
    "    fp.close()"
   ]
  },
  {
   "cell_type": "code",
   "execution_count": 25,
   "metadata": {
    "collapsed": false
   },
   "outputs": [
    {
     "name": "stdout",
     "output_type": "stream",
     "text": [
      "swedish\\hnjp0.abc\n",
      "swedish\\hnk1p0.abc\n",
      "swedish\\hnl1p0.abc\n",
      "swedish\\hnop0.abc\n",
      "swedish\\hnsch0.abc\n",
      "swedish\\hnsp0.abc\n",
      "swedish\\hnvals0.abc\n"
     ]
    }
   ],
   "source": [
    "\n",
    "import os  \n",
    "for fn in os.listdir(\"swedish\"):\n",
    "    filename=''.join(\"swedish\")\n",
    "    filename += '\\\\'\n",
    "    filename += fn\n",
    "    print(filename)\n",
    "    \n",
    "    search=\"X\"\n",
    "    add=\"\\n<end>\\n<start>\\n\"\n",
    "    content=open(filename,'r').read()\n",
    "    content=content.replace('  ','')\n",
    "    content = content.replace('\\r','')\n",
    "    fp=open(filename,'w')\n",
    "    fp.write(content)\n",
    "    fp.close()"
   ]
  },
  {
   "cell_type": "code",
   "execution_count": 26,
   "metadata": {
    "collapsed": true
   },
   "outputs": [],
   "source": [
    "import os  \n",
    "filenames = []\n",
    "for fn in os.listdir(\"swedish\"):\n",
    "    filename=''.join(\"swedish\")\n",
    "    filename += '\\\\'\n",
    "    filename += fn\n",
    "    filenames.append(filename)\n",
    "    \n",
    "\n",
    "\n",
    "with open('swedish_music.txt', 'w') as outfile:\n",
    "    for fname in filenames:\n",
    "        with open(fname) as infile:\n",
    "            for line in infile:\n",
    "                outfile.write(line)"
   ]
  },
  {
   "cell_type": "code",
   "execution_count": 28,
   "metadata": {
    "collapsed": true
   },
   "outputs": [],
   "source": [
    "filename = 'swedish_music.txt'\n",
    "search=\"\\n\\n\"\n",
    "add=\"\\n\"\n",
    "content=open(filename,'r').read()\n",
    "content=content.replace(search,add)\n",
    "fp=open(filename,'w')\n",
    "fp.write(content)\n",
    "fp.close()"
   ]
  },
  {
   "cell_type": "code",
   "execution_count": 7,
   "metadata": {
    "collapsed": false
   },
   "outputs": [],
   "source": [
    "\n",
    "filename = 'french.txt'\n",
    "fp=open(filename,'r')\n",
    "fp1 = open('french_after.txt','w')\n",
    "for line in fp:\n",
    "    if '%' not in line:\n",
    "        fp1.write(line)\n",
    "fp.close()\n",
    "fp1.close()\n"
   ]
  },
  {
   "cell_type": "code",
   "execution_count": null,
   "metadata": {
    "collapsed": true
   },
   "outputs": [],
   "source": []
  }
 ],
 "metadata": {
  "kernelspec": {
   "display_name": "Python 3",
   "language": "python",
   "name": "python3"
  },
  "language_info": {
   "codemirror_mode": {
    "name": "ipython",
    "version": 3
   },
   "file_extension": ".py",
   "mimetype": "text/x-python",
   "name": "python",
   "nbconvert_exporter": "python",
   "pygments_lexer": "ipython3",
   "version": "3.4.4"
  }
 },
 "nbformat": 4,
 "nbformat_minor": 0
}
